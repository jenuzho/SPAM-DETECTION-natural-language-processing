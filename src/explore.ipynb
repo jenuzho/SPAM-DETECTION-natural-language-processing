{
    "cells": [
        {
            "cell_type": "markdown",
            "metadata": {},
            "source": [
                "<br>\n",
                "\n",
                "<br>\n",
                "\n",
                "<br>\n",
                "\n",
                "# 👾 **SPAM LINK DETECTION SYSTEM** 👾"
            ]
        },
        {
            "cell_type": "markdown",
            "metadata": {},
            "source": [
                "**NATURAL LANGUAGE PROCESSING**"
            ]
        },
        {
            "cell_type": "markdown",
            "metadata": {},
            "source": [
                "<br>\n",
                "\n",
                "## **INDEX**\n",
                "\n",
                "- **STEP 1: PROBLEM DEFINITION AND DATA COLLECTION**\n",
                "- **STEP 2: DATA EXPLORATION AND CLEANING**\n",
                "- **STEP 3: DATA PROCESSING**\n",
                "- **STEP 4: MODEL DEVELOPMENT: SUPPORT VECTOR MACHINE (SVM)**\n",
                "- **STEP 5: MODEL OPTIMIZATION**\n",
                "- **STEP 6: MODEL DEPLOYMENT AND SAVING**\n",
                "- **STEP 7: CONCLUSION**"
            ]
        },
        {
            "cell_type": "markdown",
            "metadata": {},
            "source": [
                "<br>\n",
                "\n",
                "## **STEP 1: PROBLEM DEFINITION AND DATA COLLECTION**\n",
                "\n",
                "- 1.1. Define the problem\n",
                "- 1.2. Library Importing\n",
                "- 1.3. Data Collection"
            ]
        },
        {
            "cell_type": "markdown",
            "metadata": {},
            "source": [
                "**1.1. PROBLEM DEFINITION**\n",
                "\n",
                "The increasing volume of web pages created daily has brought a proportional rise in spam and malicious URLs. These URLs often pose threats like phishing, malware, and other forms of cyber-attacks. The goal of this project is to create a **Spam Link Detection System** that can identify whether a URL is spam or legitimate based on its structure. By analyzing the patterns within URLs, we aim to automate this detection process, reducing the need for manual review and improving online security.\n",
                "\n",
                "<br>\n",
                "\n",
                "**What is Natural Language Processing (NLP)?**\n",
                "**Natural Language Processing (NLP)** is a branch of Artificial Intelligence (AI) that focuses on the interaction between computers and human language. **NLP** techniques enable machines to read, understand, and derive meaning from text data. \n",
                "\n",
                "In this project, URLs are treated as a form of text data, allowing us to leverage NLP techniques like tokenization, stopword removal, and lemmatization to preprocess and extract meaningful patterns from them.\n",
                "\n",
                "<br>\n",
                "\n",
                "**Data Processing**\n",
                "\n",
                "In relation to this project, **data processing** involves transforming raw URLs into a format suitable for machine learning models. This includes:\n",
                "- **Tokenization:** Breaking URLs into smaller components based on punctuation or special characters.  \n",
                "- **Stopword Removal:** Eliminating common yet uninformative words like \"www\" or \"http.\"  \n",
                "- **Lemmatization/Stemming:** Reducing words to their base or root forms.  \n",
                "\n",
                "These steps help highlight the key elements of URLs that are indicative of spam, ensuring that our model focuses on the most relevant features.\n",
                "\n",
                "<br>\n",
                "\n",
                "**Methodology: SUPPORT VECTOR MACHINE (SVM)**\n",
                "\n",
                "The **Support Vector Machine (SVM)** is a supervised learning algorithm widely used for classification problems. SVM works by finding the hyperplane that best separates data points into different classes. For this project:\n",
                "- We will use an **initial SVM model** with default parameters to classify URLs as spam or legitimate.  \n",
                "- **Hyperparameter optimization** will follow, refining the model for improved performance.  \n",
                "- The final model will be saved and deployed for real-world application, enabling automated spam detection.\n"
            ]
        },
        {
            "cell_type": "markdown",
            "metadata": {},
            "source": [
                "<br>\n",
                "\n",
                "**1.2. LIBRARY IMPORTING**"
            ]
        },
        {
            "cell_type": "code",
            "execution_count": 8,
            "metadata": {},
            "outputs": [
                {
                    "name": "stderr",
                    "output_type": "stream",
                    "text": [
                        "[nltk_data] Downloading package stopwords to\n",
                        "[nltk_data]     C:\\Users\\Jen\\AppData\\Roaming\\nltk_data...\n",
                        "[nltk_data]   Package stopwords is already up-to-date!\n",
                        "[nltk_data] Downloading package wordnet to\n",
                        "[nltk_data]     C:\\Users\\Jen\\AppData\\Roaming\\nltk_data...\n",
                        "[nltk_data]   Package wordnet is already up-to-date!\n"
                    ]
                },
                {
                    "data": {
                        "text/plain": [
                            "True"
                        ]
                    },
                    "execution_count": 8,
                    "metadata": {},
                    "output_type": "execute_result"
                }
            ],
            "source": [
                "import pandas as pd\n",
                "import numpy as np\n",
                "from sklearn.feature_extraction.text import CountVectorizer, TfidfVectorizer\n",
                "from nltk.corpus import stopwords\n",
                "from nltk.stem import WordNetLemmatizer\n",
                "import nltk\n",
                "from sklearn.model_selection import train_test_split\n",
                "from sklearn.metrics import classification_report, accuracy_score, confusion_matrix\n",
                "from sklearn.svm import SVC \n",
                "from sklearn.model_selection import GridSearchCV, RandomizedSearchCV\n",
                "import joblib\n",
                "import os \n",
                "import re  # For working with regular expressions (e.g., to split URLs)\n",
                "import matplotlib.pyplot as plt\n",
                "import warnings\n",
                "warnings.filterwarnings(\"ignore\", category=FutureWarning)\n",
                "\n",
                "nltk.download('stopwords')\n",
                "nltk.download('wordnet')\n",
                "#nltk.download('punkt') hemos optado por \"re\" para la tokenización.\n"
            ]
        },
        {
            "cell_type": "markdown",
            "metadata": {},
            "source": [
                "<br>\n",
                "\n",
                "**1.3. DATA COLLECTION** "
            ]
        },
        {
            "cell_type": "markdown",
            "metadata": {},
            "source": [
                "Load a dataset from a given URL and validate its structure.\n",
                "    \n",
                "**Parameters:**\n",
                "- `url (str)`: The URL to the CSV dataset.\n",
                "- ` required_columns (list)`: List of required column names (optional).\n",
                "    \n",
                "**Returns:**\n",
                "- pd.DataFrame or None: The loaded dataset if successful, otherwise None."
            ]
        },
        {
            "cell_type": "code",
            "execution_count": 3,
            "metadata": {},
            "outputs": [
                {
                    "name": "stdout",
                    "output_type": "stream",
                    "text": [
                        "Dataset loaded successfully.\n",
                        "The dataset has 2999 rows and 2 columns.\n",
                        "\n",
                        "First 5 rows of the dataset:\n",
                        "                                                 url  is_spam\n",
                        "0  https://briefingday.us8.list-manage.com/unsubs...     True\n",
                        "1                             https://www.hvper.com/     True\n",
                        "2                 https://briefingday.com/m/v4n3i4f3     True\n",
                        "3   https://briefingday.com/n/20200618/m#commentform    False\n",
                        "4                        https://briefingday.com/fan     True\n",
                        "\n",
                        "Missing values summary:\n",
                        "url        0\n",
                        "is_spam    0\n",
                        "dtype: int64\n",
                        "\n",
                        "Dataset columns:\n",
                        "Index(['url', 'is_spam'], dtype='object')\n"
                    ]
                }
            ],
            "source": [
                "\n",
                "def load_dataset(url, required_columns=None):\n",
                "\n",
                "    try:\n",
                "        # Load the dataset from the URL\n",
                "        data = pd.read_csv(url)\n",
                "\n",
                "        # Display an initial summary of the dataset\n",
                "        print(\"Dataset loaded successfully.\")\n",
                "        print(f\"The dataset has {data.shape[0]} rows and {data.shape[1]} columns.\\n\")\n",
                "        print(\"First 5 rows of the dataset:\")\n",
                "        print(data.head())\n",
                "\n",
                "        # Check for required columns if specified\n",
                "        if required_columns:\n",
                "            missing_columns = [col for col in required_columns if col not in data.columns]\n",
                "            if missing_columns:\n",
                "                print(f\"Error: The dataset is missing the following required columns: {missing_columns}\")\n",
                "                return None\n",
                "        \n",
                "        # Display missing values summary\n",
                "        print(\"\\nMissing values summary:\")\n",
                "        print(data.isnull().sum())\n",
                "        \n",
                "        return data\n",
                "\n",
                "    except Exception as e:\n",
                "        # Handle any errors that occur during loading\n",
                "        print(f\"An error occurred while loading the dataset: {e}\")\n",
                "        return None\n",
                "\n",
                "# Dataset URL\n",
                "url = \"https://raw.githubusercontent.com/4GeeksAcademy/NLP-project-tutorial/main/url_spam.csv\"\n",
                "\n",
                "# Function call with validation for 'url' and 'is_spam' columns\n",
                "required_columns = ['url', 'is_spam']\n",
                "dataset = load_dataset(url, required_columns)\n",
                "\n",
                "# Additional verification\n",
                "if dataset is not None:\n",
                "    print(\"\\nDataset columns:\")\n",
                "    print(dataset.columns)\n"
            ]
        },
        {
            "cell_type": "markdown",
            "metadata": {},
            "source": [
                "<br>\n",
                "\n",
                "## **STEP 2: DATA EXPLORATION AND CLEANING**\n",
                "\n",
                "- 2.1. Exploration\n",
                "- 2.2. Eliminating Duplicates\n",
                "- 2.3. Class Distribution\n",
                "- 2.4. Save Cleaned Dataset\n"
            ]
        },
        {
            "cell_type": "markdown",
            "metadata": {},
            "source": [
                "<br>\n",
                "\n",
                "**2.1. EXPLORATION**"
            ]
        },
        {
            "cell_type": "code",
            "execution_count": 4,
            "metadata": {},
            "outputs": [
                {
                    "name": "stdout",
                    "output_type": "stream",
                    "text": [
                        "Dataset overview:\n",
                        "<class 'pandas.core.frame.DataFrame'>\n",
                        "RangeIndex: 2999 entries, 0 to 2998\n",
                        "Data columns (total 2 columns):\n",
                        " #   Column   Non-Null Count  Dtype \n",
                        "---  ------   --------------  ----- \n",
                        " 0   url      2999 non-null   object\n",
                        " 1   is_spam  2999 non-null   bool  \n",
                        "dtypes: bool(1), object(1)\n",
                        "memory usage: 26.5+ KB\n",
                        "None\n",
                        "\n",
                        "Summary statistics for numerical columns:\n",
                        "                                         url is_spam\n",
                        "count                                   2999    2999\n",
                        "unique                                  2369       2\n",
                        "top     https://www.bloomberg.com/tosv2.html   False\n",
                        "freq                                      26    2303\n",
                        "\n",
                        "Checking for null values:\n",
                        "url        0\n",
                        "is_spam    0\n",
                        "dtype: int64\n",
                        "\n",
                        "First 5 rows of the dataset:\n",
                        "                                                 url  is_spam\n",
                        "0  https://briefingday.us8.list-manage.com/unsubs...     True\n",
                        "1                             https://www.hvper.com/     True\n",
                        "2                 https://briefingday.com/m/v4n3i4f3     True\n",
                        "3   https://briefingday.com/n/20200618/m#commentform    False\n",
                        "4                        https://briefingday.com/fan     True\n"
                    ]
                }
            ],
            "source": [
                "# Basic exploration of the dataset\n",
                "print(\"Dataset overview:\")\n",
                "print(dataset.info())  # Column names, data types, and non-null counts\n",
                "\n",
                "print(\"\\nSummary statistics for numerical columns:\")\n",
                "print(dataset.describe())  # Quick statistics for any numerical data\n",
                "\n",
                "print(\"\\nChecking for null values:\")\n",
                "print(dataset.isnull().sum())  # Detect any missing values\n",
                "\n",
                "print(\"\\nFirst 5 rows of the dataset:\")\n",
                "print(dataset.head())\n"
            ]
        },
        {
            "cell_type": "markdown",
            "metadata": {},
            "source": [
                "**OBSERVATIONS:**\n",
                "\n",
                "**Columns of the dataset:**  \n",
                "- **url** → data type: object (text).  \n",
                "- **is_spam** → data type: bool (True/False).  \n",
                "\n",
                "**Null values:**  \n",
                "There are no null values in any column.  \n",
                "\n",
                "**Duplicates:**  \n",
                "There are **2369 unique values** in the **url** column, while the total number of rows is **2999**, which suggests that duplicates exist.  \n",
                "\n",
                "**Target distribution (is_spam):**  \n",
                "- **False** (Not spam): 2303 records.  \n",
                "- **True** (Spam): 696 records.  "
            ]
        },
        {
            "cell_type": "markdown",
            "metadata": {},
            "source": [
                "<br>\n",
                "\n",
                "**2.2. ELIMINATING DUPLICATES**"
            ]
        },
        {
            "cell_type": "code",
            "execution_count": 6,
            "metadata": {},
            "outputs": [
                {
                    "name": "stdout",
                    "output_type": "stream",
                    "text": [
                        "Number of duplicate URLs: 630\n",
                        "Dataset size after removing duplicates: 2369 rows\n"
                    ]
                }
            ],
            "source": [
                "# Check for duplicate URLs\n",
                "print(f\"Number of duplicate URLs: {dataset.duplicated(subset=['url']).sum()}\")\n",
                "\n",
                "# Drop duplicate URLs and keep the first occurrence\n",
                "dataset_cleaned = dataset.drop_duplicates(subset=['url'], keep='first')\n",
                "\n",
                "print(f\"Dataset size after removing duplicates: {dataset_cleaned.shape[0]} rows\")\n"
            ]
        },
        {
            "cell_type": "markdown",
            "metadata": {},
            "source": [
                "<br>\n",
                "\n",
                "**2.3. CLASS DISTRIBUTION**"
            ]
        },
        {
            "cell_type": "code",
            "execution_count": 10,
            "metadata": {},
            "outputs": [
                {
                    "name": "stdout",
                    "output_type": "stream",
                    "text": [
                        "Class distribution of 'is_spam':\n",
                        "is_spam\n",
                        "False    2125\n",
                        "True      244\n",
                        "Name: count, dtype: int64\n"
                    ]
                },
                {
                    "data": {
                        "image/png": "[encoded data removed]",
                        "text/plain": [
                            "<Figure size 600x400 with 1 Axes>"
                        ]
                    },
                    "metadata": {},
                    "output_type": "display_data"
                }
            ],
            "source": [
                "# Class distribution for 'is_spam'\n",
                "print(\"Class distribution of 'is_spam':\")\n",
                "print(dataset_cleaned['is_spam'].value_counts())\n",
                "\n",
                "# Visualize class distribution\n",
                "\n",
                "plt.figure(figsize=(6, 4))\n",
                "dataset_cleaned['is_spam'].value_counts().plot(kind='bar', color=['blue', 'red'])\n",
                "plt.title(\"Class Distribution of Spam vs Non-Spam URLs\")\n",
                "plt.xlabel(\"IS SPAM\")\n",
                "plt.ylabel(\"Count\")\n",
                "plt.xticks(ticks=[0, 1], labels=['Not Spam', 'Spam'], rotation=0)\n",
                "plt.show()"
            ]
        },
        {
            "cell_type": "markdown",
            "metadata": {},
            "source": [
                "<br>\n",
                "\n",
                "**2.4. SAVE CLEANED DATASET**"
            ]
        },
        {
            "cell_type": "code",
            "execution_count": 11,
            "metadata": {},
            "outputs": [
                {
                    "name": "stdout",
                    "output_type": "stream",
                    "text": [
                        "Cleaned dataset saved as 'cleaned_url_spam.csv'.\n"
                    ]
                }
            ],
            "source": [
                "# Save the cleaned dataset\n",
                "dataset_cleaned.to_csv(\"cleaned_url_spam.csv\", index=False)\n",
                "print(\"Cleaned dataset saved as 'cleaned_url_spam.csv'.\")\n"
            ]
        },
        {
            "cell_type": "markdown",
            "metadata": {},
            "source": [
                "<br>\n",
                "\n",
                "## **STEP 3: DATA PROCESSING**\n",
                "\n",
                "- 3.1. Tokenization and Stopword Removal\n",
                "- 3.2. Lemmatization\n",
                "- 3.3. Convert Text to Numerical Features."
            ]
        },
        {
            "cell_type": "markdown",
            "metadata": {},
            "source": [
                "<br>\n",
                "\n",
                "In this step, we will prepare the URLs for the machine learning model by transforming them into a format that the model can understand. Since URLs are text-based data, we need to extract meaningful features by breaking them into tokens. Specifically, we will:\n",
                "\n",
                " 1) **Tokenize** the URLs using punctuation marks as delimiters.\n",
                " 2) **Remove irrelevant words** such as common stopwords (e.g., \"www\", \"http\").\n",
                " 3) **Normalize the text** using lemmatization to reduce words to their base forms.\n",
                " 4) Convert the processed text into **numerical features** using **`TfidfVectorizer`**, which is suitable for text-based data."
            ]
        },
        {
            "cell_type": "markdown",
            "metadata": {},
            "source": [
                "<br>\n",
                "\n",
                "**3.1. TOKENIZATION AND STOPWORD REMOVAL**"
            ]
        },
        {
            "cell_type": "markdown",
            "metadata": {},
            "source": [
                "Preprocesses a URL by tokenizing it using punctuation as delimiters and removing stopwords."
            ]
        },
        {
            "cell_type": "code",
            "execution_count": 17,
            "metadata": {},
            "outputs": [
                {
                    "name": "stdout",
                    "output_type": "stream",
                    "text": [
                        "Processed URLs:\n",
                        "                                                 url  \\\n",
                        "0  https://briefingday.us8.list-manage.com/unsubs...   \n",
                        "1                             https://www.hvper.com/   \n",
                        "2                 https://briefingday.com/m/v4n3i4f3   \n",
                        "3   https://briefingday.com/n/20200618/m#commentform   \n",
                        "4                        https://briefingday.com/fan   \n",
                        "\n",
                        "                                       processed_url  \n",
                        "0  https: briefingday us8 list manage com unsubsc...  \n",
                        "1                               https: www hvper com  \n",
                        "2                    https: briefingday com v4n3i4f3  \n",
                        "3    https: briefingday com n 20200618 m#commentform  \n",
                        "4                         https: briefingday com fan  \n"
                    ]
                }
            ],
            "source": [
                "\n",
                "# Define stopwords\n",
                "stop_words = set(stopwords.words('english'))\n",
                "\n",
                "def preprocess_url(url):\n",
                "\n",
                "    # Tokenize the URL using punctuation marks as delimiters\n",
                "    tokens = re.split(r'[/.?=&-]', url)\n",
                "    \n",
                "    # Remove empty strings and stopwords\n",
                "    tokens = [t.lower() for t in tokens if t and t.lower() not in stop_words]\n",
                "    \n",
                "    return \" \".join(tokens)\n",
                "\n",
                "# Create an explicit copy of the cleaned dataset\n",
                "dataset_cleaned = dataset_cleaned.copy()\n",
                "\n",
                "# Apply the preprocessing function to the 'url' column\n",
                "dataset_cleaned['processed_url'] = dataset_cleaned['url'].apply(preprocess_url)\n",
                "\n",
                "# Display the first 5 processed URLs\n",
                "print(\"Processed URLs:\")\n",
                "print(dataset_cleaned[['url', 'processed_url']].head())\n"
            ]
        },
        {
            "cell_type": "markdown",
            "metadata": {},
            "source": [
                "<br>\n",
                "\n",
                "**3.2. LEMMATIZATION**"
            ]
        },
        {
            "cell_type": "markdown",
            "metadata": {},
            "source": [
                " Lemmatizes each word in the given text."
            ]
        },
        {
            "cell_type": "code",
            "execution_count": 18,
            "metadata": {},
            "outputs": [
                {
                    "name": "stdout",
                    "output_type": "stream",
                    "text": [
                        "Lemmatized URLs:\n",
                        "                                                 url  \\\n",
                        "0  https://briefingday.us8.list-manage.com/unsubs...   \n",
                        "1                             https://www.hvper.com/   \n",
                        "2                 https://briefingday.com/m/v4n3i4f3   \n",
                        "3   https://briefingday.com/n/20200618/m#commentform   \n",
                        "4                        https://briefingday.com/fan   \n",
                        "\n",
                        "                                       processed_url  \n",
                        "0  https: briefingday us8 list manage com unsubsc...  \n",
                        "1                               https: www hvper com  \n",
                        "2                    https: briefingday com v4n3i4f3  \n",
                        "3    https: briefingday com n 20200618 m#commentform  \n",
                        "4                         https: briefingday com fan  \n"
                    ]
                }
            ],
            "source": [
                "def lemmatize_text(text):\n",
                "\n",
                "    return \" \".join([lemmatizer.lemmatize(word) for word in text.split()])\n",
                "\n",
                "# Ensure dataset_cleaned is a copy of the original DataFrame\n",
                "dataset_cleaned = dataset_cleaned.copy()\n",
                "\n",
                "# Apply Lemmatization to the processed URLs using .loc to avoid warnings\n",
                "dataset_cleaned.loc[:, 'processed_url'] = dataset_cleaned['processed_url'].apply(lemmatize_text)\n",
                "\n",
                "# Display the Lemmatized URLs\n",
                "print(\"Lemmatized URLs:\")\n",
                "print(dataset_cleaned[['url', 'processed_url']].head())\n"
            ]
        },
        {
            "cell_type": "markdown",
            "metadata": {},
            "source": [
                "**3.3. CONVERT TEXT TO NUMERICAL FEATURES**"
            ]
        },
        {
            "cell_type": "markdown",
            "metadata": {},
            "source": [
                "Converting URLs to Numerical Features with  **`TfidfVectorizer`**"
            ]
        },
        {
            "cell_type": "code",
            "execution_count": 14,
            "metadata": {},
            "outputs": [
                {
                    "name": "stdout",
                    "output_type": "stream",
                    "text": [
                        "Feature matrix shape: (2369, 5000)\n",
                        "Sample feature names: ['01' '01838' '01864' '01891' '01906' '01908' '02' '020' '02cd1f7a8c70'\n",
                        " '03']\n"
                    ]
                }
            ],
            "source": [
                "# Initialize the TfidfVectorizer\n",
                "vectorizer = TfidfVectorizer(max_features=5000)  # Limit to 5000 features for efficiency\n",
                "\n",
                "# Fit and transform the processed URLs into numerical features\n",
                "X = vectorizer.fit_transform(dataset_cleaned['processed_url'])\n",
                "\n",
                "# Target variable\n",
                "y = dataset_cleaned['is_spam']\n",
                "\n",
                "print(f\"Feature matrix shape: {X.shape}\")\n",
                "print(\"Sample feature names:\", vectorizer.get_feature_names_out()[:10])"
            ]
        },
        {
            "cell_type": "markdown",
            "metadata": {},
            "source": [
                "<br>\n",
                "\n",
                "## **STEP 4: MODEL DEVELOPMENT: SUPPORT VECTOR MACHINE (SVM)**\n",
                "\n",
                "- 4.1. Train the Initial SVM Model\n",
                "- 4.2. Evaluate the SVM Model"
            ]
        },
        {
            "cell_type": "markdown",
            "metadata": {},
            "source": [
                "<br>\n",
                "\n",
                "In this step, we will focus on building and training a Support Vector Machine (SVM) model to classify URLs as spam or not spam.\n",
                "\n",
                "The process involves:\n",
                "\n",
                "- **Defining the SVM model**: We will start with the default hyperparameters to establish a baseline performance.\n",
                "- **Training the model**: Use the training dataset to train the SVM classifier.\n",
                "- **Evaluating the model**: Assess the model's performance on the test dataset using accuracy, confusion matrix, and classification report."
            ]
        },
        {
            "cell_type": "markdown",
            "metadata": {},
            "source": [
                "<br>\n",
                "\n",
                "**4.1. TRAIN THE INITIAL `SVM MODEL`**"
            ]
        },
        {
            "cell_type": "code",
            "execution_count": 15,
            "metadata": {},
            "outputs": [
                {
                    "name": "stdout",
                    "output_type": "stream",
                    "text": [
                        "Training the SVM model...\n",
                        "Model training completed!\n"
                    ]
                }
            ],
            "source": [
                "# Initialize the Support Vector Machine classifier with default parameters\n",
                "svm_model = SVC()\n",
                "\n",
                "# Split the data into training and testing sets\n",
                "from sklearn.model_selection import train_test_split\n",
                "X_train, X_test, y_train, y_test = train_test_split(X, y, test_size=0.2, random_state=42)\n",
                "\n",
                "# Train the model\n",
                "print(\"Training the SVM model...\")\n",
                "svm_model.fit(X_train, y_train)\n",
                "\n",
                "print(\"Model training completed!\")"
            ]
        },
        {
            "cell_type": "markdown",
            "metadata": {},
            "source": [
                "<br>\n",
                "\n",
                "**4.2. EVALUATE THE `SVM MODEL`**"
            ]
        },
        {
            "cell_type": "code",
            "execution_count": 16,
            "metadata": {},
            "outputs": [
                {
                    "name": "stdout",
                    "output_type": "stream",
                    "text": [
                        "Accuracy of the SVM model: 0.96\n",
                        "\n",
                        "Classification Report:\n",
                        "              precision    recall  f1-score   support\n",
                        "\n",
                        "       False       0.96      1.00      0.98       435\n",
                        "        True       0.91      0.54      0.68        39\n",
                        "\n",
                        "    accuracy                           0.96       474\n",
                        "   macro avg       0.94      0.77      0.83       474\n",
                        "weighted avg       0.96      0.96      0.95       474\n",
                        "\n"
                    ]
                }
            ],
            "source": [
                "# Make predictions on the test set\n",
                "y_pred = svm_model.predict(X_test)\n",
                "\n",
                "# Evaluate the model's performance\n",
                "accuracy = accuracy_score(y_test, y_pred)\n",
                "print(f\"Accuracy of the SVM model: {accuracy:.2f}\")\n",
                "\n",
                "print(\"\\nClassification Report:\")\n",
                "print(classification_report(y_test, y_pred))\n"
            ]
        }
    ],
    "metadata": {
        "kernelspec": {
            "display_name": "Python 3",
            "language": "python",
            "name": "python3"
        },
        "language_info": {
            "codemirror_mode": {
                "name": "ipython",
                "version": 3
            },
            "file_extension": ".py",
            "mimetype": "text/x-python",
            "name": "python",
            "nbconvert_exporter": "python",
            "pygments_lexer": "ipython3",
            "version": "3.12.6"
        },
        "orig_nbformat": 4
    },
    "nbformat": 4,
    "nbformat_minor": 2
}
